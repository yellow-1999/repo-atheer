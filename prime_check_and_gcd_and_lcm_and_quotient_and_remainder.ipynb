{
  "nbformat": 4,
  "nbformat_minor": 0,
  "metadata": {
    "colab": {
      "name": "prime check and gcd and lcm and quotient and remainder.ipynb",
      "provenance": [],
      "collapsed_sections": [],
      "authorship_tag": "ABX9TyObr/soNcnmXwb97JYHiAHb",
      "include_colab_link": true
    },
    "kernelspec": {
      "name": "python3",
      "display_name": "Python 3"
    },
    "language_info": {
      "name": "python"
    }
  },
  "cells": [
    {
      "cell_type": "markdown",
      "metadata": {
        "id": "view-in-github",
        "colab_type": "text"
      },
      "source": [
        "<a href=\"https://colab.research.google.com/github/yellow-1999/repo-atheer/blob/master/prime_check_and_gcd_and_lcm_and_quotient_and_remainder.ipynb\" target=\"_parent\"><img src=\"https://colab.research.google.com/assets/colab-badge.svg\" alt=\"Open In Colab\"/></a>"
      ]
    },
    {
      "cell_type": "markdown",
      "metadata": {
        "id": "QTlofL58mQvo"
      },
      "source": [
        "# ***`prime`***"
      ]
    },
    {
      "cell_type": "code",
      "metadata": {
        "colab": {
          "base_uri": "https://localhost:8080/"
        },
        "id": "vzldQn5WBBlJ",
        "outputId": "d7f3c34c-fccc-4cb2-e85b-c41ee1780c85"
      },
      "source": [
        "# Program to check if a number is prime or not\n",
        "\n",
        "num = int(input(\"Enter a number: \"))\n",
        "\n",
        "# define a flag variable\n",
        "flag = False\n",
        "# prime numbers are greater than 1\n",
        "if num > 1:\n",
        "    # check for factors\n",
        "    for i in range(2, num):\n",
        "        if (num % i) == 0:\n",
        "            # if factor is found, set flag to True\n",
        "            flag = True\n",
        "            # break out of loop\n",
        "            break\n",
        "\n",
        "# check if flag is True\n",
        "if flag:\n",
        "    print(num, \"is not a prime number\")\n",
        "else:\n",
        "    print(num, \"is a prime number\")"
      ],
      "execution_count": 8,
      "outputs": [
        {
          "output_type": "stream",
          "text": [
            "Enter a number: 100\n",
            "100 is not a prime number\n"
          ],
          "name": "stdout"
        }
      ]
    },
    {
      "cell_type": "markdown",
      "metadata": {
        "id": "3LN8hYGamzV9"
      },
      "source": [
        "# ***`gcd`***"
      ]
    },
    {
      "cell_type": "code",
      "metadata": {
        "colab": {
          "base_uri": "https://localhost:8080/"
        },
        "id": "YNw7cYaKDdW_",
        "outputId": "04dd4954-2ada-412b-9230-87f033f07250"
      },
      "source": [
        "def hcfnaive(a,b):\n",
        "    if(b==0):\n",
        "        return a\n",
        "    else:\n",
        "        return hcfnaive(b,a%b)\n",
        "a= int(input(\"Enter a number: \"))\n",
        "\n",
        "b= int(input(\"Enter a number: \"))\n",
        "\n",
        "  \n",
        "# prints 12\n",
        "print (a,\"and\",b,\"The gcd of  and  is : \",end=\"\")\n",
        "print (hcfnaive(a,b))"
      ],
      "execution_count": 1,
      "outputs": [
        {
          "output_type": "stream",
          "text": [
            "Enter a number: 50\n",
            "Enter a number: 45\n",
            "50 and 45 The gcd of  and  is : 5\n"
          ],
          "name": "stdout"
        }
      ]
    },
    {
      "cell_type": "markdown",
      "metadata": {
        "id": "nwTp4o_Wnb3l"
      },
      "source": [
        "# ***`L.C.M`***"
      ]
    },
    {
      "cell_type": "code",
      "metadata": {
        "colab": {
          "base_uri": "https://localhost:8080/"
        },
        "id": "bGynKTN5GngL",
        "outputId": "5f7fe3f6-0a34-48c6-f54a-3e5b88184b59"
      },
      "source": [
        "# Python Program to find the L.C.M. of two input number\n",
        "\n",
        "def compute_lcm(x, y):\n",
        "\n",
        "   # choose the greater number\n",
        "   if x > y:\n",
        "       greater = x\n",
        "   else:\n",
        "       greater = y\n",
        "\n",
        "   while(True):\n",
        "       if((greater % x == 0) and (greater % y == 0)):\n",
        "           lcm = greater\n",
        "           break\n",
        "       greater += 1\n",
        "\n",
        "   return lcm\n",
        "\n",
        "num1= int(input(\"Enter a number: \"))\n",
        "\n",
        "num2= int(input(\"Enter a number: \"))\n",
        "\n",
        "\n",
        "print(\"The L.C.M. is\", compute_lcm(num1, num2))"
      ],
      "execution_count": 12,
      "outputs": [
        {
          "output_type": "stream",
          "text": [
            "Enter a number: 60\n",
            "Enter a number: 54\n",
            "The L.C.M. is 540\n"
          ],
          "name": "stdout"
        }
      ]
    },
    {
      "cell_type": "markdown",
      "metadata": {
        "id": "3QQRC2VnnxWt"
      },
      "source": [
        "# `***quotient and remainder ***`"
      ]
    },
    {
      "cell_type": "code",
      "metadata": {
        "colab": {
          "base_uri": "https://localhost:8080/"
        },
        "id": "5kn1pTPxjjk_",
        "outputId": "880a380b-dbaf-4d94-853d-a79f966bd025"
      },
      "source": [
        "# Example: What are the quotient and remainder when 101 is\n",
        "# divided by 11?\n",
        "divisor=int(input(\"  enter divisor = \"))\n",
        "dividend=int(input(\" enter dividend = \"))\n",
        "\n",
        "q = divisor // dividend\n",
        "mod = divisor % dividend\n",
        "\n",
        "print(\"divisor = \",divisor  , \"dividend =\",dividend)\n",
        "print(\"quotient= \", q, \"reminder = \",  mod)\n"
      ],
      "execution_count": 2,
      "outputs": [
        {
          "output_type": "stream",
          "text": [
            "  enter divisor = -1\n",
            " enter dividend = 3\n",
            "divisor =  -1 dividend = 3\n",
            "quotient=  -1 reminder =  2\n"
          ],
          "name": "stdout"
        }
      ]
    },
    {
      "cell_type": "markdown",
      "metadata": {
        "id": "B7UU-X9Nkl-m"
      },
      "source": [
        "q = 117 // 31\n",
        "mod = 117 % 31\n",
        "--------------> quotient=  3 reminder =  24\n",
        "EX:\n",
        "enter divisor = 101\n",
        "enter dividend = 11\n",
        "divisor =  101 dividend = 11\n",
        "quotient=  9 reminder =  2\n"
      ]
    }
  ]
}